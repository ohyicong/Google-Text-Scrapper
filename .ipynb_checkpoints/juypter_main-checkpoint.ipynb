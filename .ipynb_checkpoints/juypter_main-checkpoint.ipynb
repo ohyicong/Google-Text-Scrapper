{
 "cells": [
  {
   "cell_type": "markdown",
   "metadata": {},
   "source": [
    "<h3>Google Image Scrapper for Juypter Notebook</h3>"
   ]
  },
  {
   "cell_type": "code",
   "execution_count": 1,
   "metadata": {},
   "outputs": [
    {
     "name": "stdout",
     "output_type": "stream",
     "text": [
      "GoogleTextScraper Notification: Searching for dog.\n",
      "GoogleTextScraper Notification: Saving...\n",
      "[['dog', 'description', 'the dog is a domesticated carnivoran of the family canidae. it is part of the wolf-like canids, and is the most widely abundant terrestrial carnivore.'], ['dog', 'lifespan', ' 10 - 13 years'], ['dog', 'family', ' canidae'], ['dog', 'gestation period', ' 58 - 68 days'], ['dog', 'daily sleep', ' 12 - 14 hours (adult)'], ['dog', 'class', ' mammalia'], ['dog', 'scientific name', ' canis lupus familiaris']]\n",
      "GoogleTextScraper Notification: Searching for cat.\n",
      "GoogleTextScraper Notification: Saving...\n",
      "  search key              type  \\\n",
      "0        dog       description   \n",
      "1        dog          lifespan   \n",
      "2        dog            family   \n",
      "3        dog  gestation period   \n",
      "4        dog       daily sleep   \n",
      "5        dog             class   \n",
      "6        dog   scientific name   \n",
      "0        cat       description   \n",
      "1        cat          lifespan   \n",
      "2        cat            family   \n",
      "3        cat  gestation period   \n",
      "4        cat       daily sleep   \n",
      "5        cat              mass   \n",
      "6        cat   scientific name   \n",
      "\n",
      "                                                text  \n",
      "0  the dog is a domesticated carnivoran of the fa...  \n",
      "1                                      10 - 13 years  \n",
      "2                                            canidae  \n",
      "3                                       58 - 68 days  \n",
      "4                              12 - 14 hours (adult)  \n",
      "5                                           mammalia  \n",
      "6                             canis lupus familiaris  \n",
      "0  the cat is a domestic species of small carnivo...  \n",
      "1                         2 - 16 years (in the wild)  \n",
      "2                                            felidae  \n",
      "3                                       58 - 67 days  \n",
      "4                                      12 - 16 hours  \n",
      "5                               3.6 - 4.5 kg (adult)  \n",
      "6                                        felis catus  \n",
      "[['cat', 'description', 'the cat is a domestic species of small carnivorous mammal. it is the only domesticated species in the family felidae and is often referred to as the domestic cat to distinguish it from the wild members of the family.'], ['cat', 'lifespan', ' 2 - 16 years (in the wild)'], ['cat', 'family', ' felidae'], ['cat', 'gestation period', ' 58 - 67 days'], ['cat', 'daily sleep', ' 12 - 16 hours'], ['cat', 'mass', ' 3.6 - 4.5 kg (adult)'], ['cat', 'scientific name', ' felis catus']]\n"
     ]
    }
   ],
   "source": [
    "# -*- coding: utf-8 -*-\n",
    "\"\"\"\n",
    "Created on Sun Jul 12 11:02:06 2020\n",
    "\n",
    "@author: OHyic\n",
    "\n",
    "\"\"\"\n",
    "from GoogleTextScrapper import GoogleTextScraper\n",
    "import os\n",
    "\n",
    "\n",
    "webdriver_path = os.getcwd()+\"\\\\webdriver\\\\chromedriver.exe\"\n",
    "csv_path = os.getcwd()+\"\\\\data.csv\"\n",
    "search_keys= [\"dog\",\"cat\"]\n",
    "headless = False\n",
    "web_scrapper = GoogleTextScraper(webdriver_path,csv_path,headless)\n",
    "#search key, description, addition info\n",
    "for search_key in search_keys:\n",
    "    result = web_scrapper.get_info(search_key)\n",
    "    web_scrapper.save_info(result)\n",
    "\n",
    "\n"
   ]
  },
  {
   "cell_type": "code",
   "execution_count": null,
   "metadata": {},
   "outputs": [],
   "source": []
  }
 ],
 "metadata": {
  "kernelspec": {
   "display_name": "Python 3",
   "language": "python",
   "name": "python3"
  },
  "language_info": {
   "codemirror_mode": {
    "name": "ipython",
    "version": 3
   },
   "file_extension": ".py",
   "mimetype": "text/x-python",
   "name": "python",
   "nbconvert_exporter": "python",
   "pygments_lexer": "ipython3",
   "version": "3.7.6"
  }
 },
 "nbformat": 4,
 "nbformat_minor": 4
}
